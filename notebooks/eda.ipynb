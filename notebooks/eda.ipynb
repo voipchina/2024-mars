{
 "cells": [
  {
   "cell_type": "code",
   "execution_count": 1,
   "metadata": {},
   "outputs": [
    {
     "name": "stdout",
     "output_type": "stream",
     "text": [
      "53\n"
     ]
    }
   ],
   "source": [
    "import os\n",
    "import json\n",
    "import pandas as pd\n",
    "\n",
    "directory = '/root/autodl-tmp/2024_mars/train/json'\n",
    "json_list = []\n",
    "for filename in os.listdir(directory):\n",
    "    if filename.endswith('.json'):\n",
    "        # Read the JSON file\n",
    "        with open(os.path.join(directory, filename)) as file:\n",
    "            json_data = json.load(file)\n",
    "            json_list.append(json_data)\n",
    "print(len(json_list))"
   ]
  },
  {
   "cell_type": "code",
   "execution_count": 5,
   "metadata": {},
   "outputs": [
    {
     "name": "stdout",
     "output_type": "stream",
     "text": [
      "0 128 <pandas.core.groupby.generic.DataFrameGroupBy object at 0x7f367b2cdf40>\n",
      "1 95 <pandas.core.groupby.generic.DataFrameGroupBy object at 0x7f36e040bb80>\n",
      "2 1364 <pandas.core.groupby.generic.DataFrameGroupBy object at 0x7f367b26eca0>\n",
      "3 182 <pandas.core.groupby.generic.DataFrameGroupBy object at 0x7f367b498520>\n",
      "4 588 <pandas.core.groupby.generic.DataFrameGroupBy object at 0x7f367b4980d0>\n"
     ]
    }
   ],
   "source": [
    "for i, json_data in enumerate(json_list):\n",
    "    df = pd.DataFrame(json_data)\n",
    "    df_cat = df.groupby('category')\n",
    "    if i < 5:\n",
    "        print(i, len(json_data), df_cat)\n",
    "    else:\n",
    "        break"
   ]
  }
 ],
 "metadata": {
  "kernelspec": {
   "display_name": "base",
   "language": "python",
   "name": "python3"
  },
  "language_info": {
   "codemirror_mode": {
    "name": "ipython",
    "version": 3
   },
   "file_extension": ".py",
   "mimetype": "text/x-python",
   "name": "python",
   "nbconvert_exporter": "python",
   "pygments_lexer": "ipython3",
   "version": "3.8.10"
  }
 },
 "nbformat": 4,
 "nbformat_minor": 2
}
