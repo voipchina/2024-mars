{
 "cells": [
  {
   "cell_type": "code",
   "execution_count": 3,
   "metadata": {},
   "outputs": [],
   "source": [
    "import os\n",
    "from glob import glob\n",
    "label_dir = '/root/autodl-tmp/github/yolov10/runs/detect/output2/labels'\n",
    "import json\n",
    "\n",
    "\"\"\"\n",
    "    {\n",
    "      \"frame_id\": 20,\n",
    "      \"event_id\": 1,\n",
    "      \"category\": \"机动车违停\",\n",
    "      \"bbox\": [200, 300, 280, 500],\n",
    "      \"confidence\": 0.85\n",
    "    },\n",
    "\"\"\"\n",
    "category_cn_list = ['机动车违停', '非机动车违停', '违法经营', '垃圾桶满溢']\n",
    "width = 1920\n",
    "height = 1080\n",
    "for video_index in range(39):\n",
    "    video_json= []\n",
    "    video_labels = sorted(glob(f'{label_dir}/test_{video_index:03d}*.txt'))\n",
    "    for label_file in video_labels:\n",
    "        label_txt = os.path.basename(label_file).replace('.txt', '')\n",
    "        str_split = label_txt.split('_')\n",
    "        assert(len(str_split)) == 3, str_split\n",
    "        frame_id = int(str_split[2])\n",
    "        event_id = 1\n",
    "        with open(label_file, 'r') as f:\n",
    "            lines = f.readlines()\n",
    "        for line in lines:\n",
    "            result = line.strip().split(' ')\n",
    "            assert(len(result)) == 6, result\n",
    "            cat_id, conf, cx, cy, w, h = int(result[0]), float(result[1]), float(result[2]), float(result[3]),  float(result[4]), float(result[5])\n",
    "            cat_name = category_cn_list[int(cat_id)]\n",
    "            x1 = int(max((cx-w/2), 0)*width)\n",
    "            x2 = int(min((cx+w/2), 1)*width)\n",
    "            y1 = int(max((cy-h/2), 0)*height)\n",
    "            y2 = int(min((cy+h/2), 1)*height)\n",
    "            video_json.append({\n",
    "                \"frame_id\": frame_id,\n",
    "                \"event_id\": event_id,\n",
    "                \"category\": cat_name,\n",
    "                \"bbox\": [x1, y1, x2, y2],\n",
    "                \"confidence\": conf\n",
    "            })\n",
    "            event_id = event_id + 1\n",
    "    json_string = json.dumps(video_json, indent=4)\n",
    "    json_file = f'test_{video_index}.json'\n",
    "    with open(f'/root/ws/2024-mars/result/{json_file}', 'w') as f:\n",
    "        f.write(json_string)\n",
    "\n"
   ]
  }
 ],
 "metadata": {
  "kernelspec": {
   "display_name": "base",
   "language": "python",
   "name": "python3"
  },
  "language_info": {
   "codemirror_mode": {
    "name": "ipython",
    "version": 3
   },
   "file_extension": ".py",
   "mimetype": "text/x-python",
   "name": "python",
   "nbconvert_exporter": "python",
   "pygments_lexer": "ipython3",
   "version": "3.8.10"
  }
 },
 "nbformat": 4,
 "nbformat_minor": 2
}
